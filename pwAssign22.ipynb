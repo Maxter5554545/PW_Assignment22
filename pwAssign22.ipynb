{
 "cells": [
  {
   "cell_type": "code",
   "execution_count": 2,
   "id": "35f71e7a-1f7d-4dfe-8e14-817e5ab33595",
   "metadata": {},
   "outputs": [],
   "source": [
    "import logging\n",
    "import pandas as ps\n",
    "logging.basicConfig(filename=\"PanAss.log\", level=logging.DEBUG)"
   ]
  },
  {
   "cell_type": "code",
   "execution_count": 2,
   "id": "11f4c838-4e2a-47dd-a09a-28fef4c24fc7",
   "metadata": {},
   "outputs": [],
   "source": [
    "# Q1. List any five functions of the pandas library with execution.\n",
    "try:\n",
    "    logging.info(''' 1. ps.DataFrame()\n",
    "     2. ps.Series()\n",
    "     3. ps.read_csv()\n",
    "     4. ps.read_html()''')\n",
    "except TypeError as t:\n",
    "    logging.error(t)"
   ]
  },
  {
   "cell_type": "code",
   "execution_count": 77,
   "id": "031495bf-107a-47ab-91cf-6cc5a72c0d4a",
   "metadata": {},
   "outputs": [
    {
     "name": "stdout",
     "output_type": "stream",
     "text": [
      "   A  B  C\n",
      "1  3  5  1\n",
      "3  8  2  7\n",
      "5  6  9  4\n",
      "7  2  3  5\n",
      "9  9  1  2\n"
     ]
    }
   ],
   "source": [
    "# Q2. Given a Pandas DataFrame df with columns 'A', 'B', and 'C', write a Python function to re-index the\n",
    "# DataFrame with a new index that starts from 1 and increments by 2 for each row.\n",
    "try:\n",
    "    data = {'A': [3, 8, 6, 2, 9], 'B' : [5, 2, 9, 3, 1], 'C': [1, 7, 4, 5, 2]}\n",
    "    \n",
    "    df = ps.DataFrame(data)\n",
    "    \n",
    "    newIn = range(1, len(df)*2+1, 2)\n",
    "    \n",
    "    df.index = newIn\n",
    "    print(df)\n",
    "    logging.info(df)\n",
    "    \n",
    "except ValueError as v:\n",
    "    logging.error(v)\n",
    "    \n",
    "except FileNotFoundError as f:\n",
    "    logging.error(f)"
   ]
  },
  {
   "cell_type": "code",
   "execution_count": 75,
   "id": "55913a1e-22f5-43b9-80dc-143806771468",
   "metadata": {},
   "outputs": [
    {
     "name": "stdout",
     "output_type": "stream",
     "text": [
      "17\n"
     ]
    }
   ],
   "source": [
    "# Q3. You have a Pandas DataFrame df with a column named 'Values'. Write a Python function that\n",
    "# iterates over the DataFrame and calculates the sum of the first three values in the 'Values' column. The\n",
    "# function should print the sum to the console.\n",
    "\n",
    "# For example, if the 'Values' column of df contains the values [10, 20, 30, 40, 50], your function should\n",
    "# calculate and print the sum of the first three values, which is 60.\n",
    "\n",
    "try:\n",
    "    gh = df['A'].head(3).sum()\n",
    "    \n",
    "    print(gh)\n",
    "    \n",
    "except ValueError as v:\n",
    "    \n",
    "    print(v)"
   ]
  },
  {
   "cell_type": "code",
   "execution_count": 22,
   "id": "db156fe2-239b-471c-aa22-dfa51eda352c",
   "metadata": {},
   "outputs": [
    {
     "name": "stdout",
     "output_type": "stream",
     "text": [
      "     Text  Word_Count\n",
      "0  Ramesh           1\n",
      "1  Mukesh           1\n",
      "2  Hitesh           1\n",
      "3  Mitesh           1\n",
      "4   Heena           1\n",
      "5    Riya           1\n",
      "6  Rakesh           1\n"
     ]
    }
   ],
   "source": [
    "# Q4. Given a Pandas DataFrame df with a column 'Text', write a Python function to create a new column\n",
    "# 'Word_Count' that contains the number of words in each row of the 'Text' column.\n",
    "try:\n",
    "    data = {'Text':[\"Ramesh\", \"Mukesh\", \"Hitesh\", \"Mitesh\", \"Heena\", \"Riya\", \"Rakesh\"]}\n",
    "    \n",
    "    df = ps.DataFrame(data)\n",
    "    \n",
    "    def nec(n):\n",
    "        return len(n.split())\n",
    "    \n",
    "    df['Word_Count'] = df['Text'].apply(nec)\n",
    "    \n",
    "    logging.info(df)\n",
    "    \n",
    "except ValueError as v:\n",
    "    logging.error(v)"
   ]
  },
  {
   "cell_type": "code",
   "execution_count": 28,
   "id": "6e1a9430-559b-4386-8edd-67a79a2a4fb0",
   "metadata": {},
   "outputs": [],
   "source": [
    "# Q5. How are DataFrame.size() and DataFrame.shape() different?\n",
    "try:\n",
    "    logging.info(''' DataFrame.size() represents the total number of rows 7 columns while the Dataframe.shape() provides the dimensions of the DataFrame.''')\n",
    "    size = df.size\n",
    "    shape = df.shape\n",
    "    logging.info(f\"This is the size of the given dataframe : {size}\\nThis is the shape of the given dataframe: {shape}\")\n",
    "    \n",
    "except TypeError as t:\n",
    "    \n",
    "    logging.error(t)"
   ]
  },
  {
   "cell_type": "code",
   "execution_count": 29,
   "id": "706a1d35-88c9-4acb-bf08-f030ec3e0f42",
   "metadata": {},
   "outputs": [],
   "source": [
    "# Q6. Which function of pandas do we use to read an excel file?\n",
    "try:\n",
    "    logging.info(\"In excel file we use read_excel to read excel file in python through pandas function.\")\n",
    "    \n",
    "except TypeError as t:\n",
    "    \n",
    "    logging.error(t)"
   ]
  },
  {
   "cell_type": "code",
   "execution_count": 49,
   "id": "4fd8e390-c167-482a-b294-0dc8d54b7b63",
   "metadata": {},
   "outputs": [
    {
     "name": "stdout",
     "output_type": "stream",
     "text": [
      "                      Email       User Name\n",
      "0  Mrinal.Devnath@gmail.com  Mrinal.Devnath\n"
     ]
    }
   ],
   "source": [
    "# Q7. You have a Pandas DataFrame df that contains a column named 'Email' that contains email\n",
    "# addresses in the format 'username@domain.com'. Write a Python function that creates a new column\n",
    "# 'Username' in df that contains only the username part of each email address.\n",
    "\n",
    "# The username is the part of the email address that appears before the '@' symbol. For example, if the\n",
    "# email address is 'john.doe@example.com', the 'Username' column should contain 'john.doe'. Your\n",
    "# function should extract the username from each email address and store it in the new 'Username'\n",
    "# column.\n",
    "try:\n",
    "    def user(n):\n",
    "        \n",
    "         return n.split('@')[0] \n",
    "        \n",
    "    data = {\"Email\":[\"Mrinal.Devnath@gmail.com\"]}\n",
    "    \n",
    "    df = ps.DataFrame(data)\n",
    "    \n",
    "    df[\"User Name\"] = df[\"Email\"].apply(user)\n",
    "    \n",
    "    logging.info(df)\n",
    "    \n",
    "except ValueError as v:\n",
    "    \n",
    "    logging.error(v)"
   ]
  },
  {
   "cell_type": "code",
   "execution_count": 63,
   "id": "4e2f277f-ed83-4b6c-ac3d-5acc3c26eada",
   "metadata": {},
   "outputs": [
    {
     "name": "stdout",
     "output_type": "stream",
     "text": [
      "   A  B  C\n",
      "1  8  2  7\n",
      "2  6  9  4\n",
      "4  9  1  2\n"
     ]
    }
   ],
   "source": [
    "# # Q8. You have a Pandas DataFrame df with columns 'A', 'B', and 'C'. Write a Python function that selects\n",
    "# # all rows where the value in column 'A' is greater than 5 and the value in column 'B' is less than 10. The\n",
    "# # function should return a new DataFrame that contains only the selected rows.\n",
    "# # For example, if df contains the following values:\n",
    "\n",
    "#   A B C\n",
    "# 0 3 5 1\n",
    "# 1 8 2 7\n",
    "# 2 6 9 4\n",
    "# 3 2 3 5\n",
    "# 4 9 1 2\n",
    "\n",
    "try:\n",
    "    data = {'A':[3, 8, 6, 2, 9], 'B':[5, 2, 9, 3, 1], 'C':[1, 7, 4, 5, 2]}\n",
    "    dg = ps.DataFrame(data)\n",
    "    \n",
    "    logging.info(dg[(dg['A']>5) & (dg['B']<10)])\n",
    "    \n",
    "except ValueError as v:\n",
    "    \n",
    "    logging.error(v)"
   ]
  },
  {
   "cell_type": "code",
   "execution_count": 66,
   "id": "cd798fbb-fa75-4377-9b9d-72d989280c87",
   "metadata": {},
   "outputs": [
    {
     "name": "stdout",
     "output_type": "stream",
     "text": [
      "        date  sales  month\n",
      "0 2022-01-01    100      1\n",
      "1 2022-02-01    200      2\n",
      "2 2022-03-01    300      3\n"
     ]
    }
   ],
   "source": []
  },
  {
   "cell_type": "code",
   "execution_count": 79,
   "id": "71d1c3de-f81c-4c43-bf36-74f46cedc1f0",
   "metadata": {},
   "outputs": [
    {
     "name": "stdout",
     "output_type": "stream",
     "text": [
      "Object `code` not found.\n",
      "1        Bob\n",
      "2    Charlie\n",
      "Name: name, dtype: object\n"
     ]
    }
   ],
   "source": []
  },
  {
   "cell_type": "code",
   "execution_count": null,
   "id": "ed38d96b-f94c-4b0c-b923-9285bcf583bb",
   "metadata": {},
   "outputs": [],
   "source": []
  }
 ],
 "metadata": {
  "kernelspec": {
   "display_name": "Python 3 (ipykernel)",
   "language": "python",
   "name": "python3"
  },
  "language_info": {
   "codemirror_mode": {
    "name": "ipython",
    "version": 3
   },
   "file_extension": ".py",
   "mimetype": "text/x-python",
   "name": "python",
   "nbconvert_exporter": "python",
   "pygments_lexer": "ipython3",
   "version": "3.10.8"
  }
 },
 "nbformat": 4,
 "nbformat_minor": 5
}
